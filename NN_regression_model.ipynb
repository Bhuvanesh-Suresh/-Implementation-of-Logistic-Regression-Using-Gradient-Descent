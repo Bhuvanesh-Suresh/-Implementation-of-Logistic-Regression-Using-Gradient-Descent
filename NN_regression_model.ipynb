{
  "nbformat": 4,
  "nbformat_minor": 0,
  "metadata": {
    "colab": {
      "provenance": [],
      "gpuType": "T4"
    },
    "kernelspec": {
      "name": "python3",
      "display_name": "Python 3"
    },
    "language_info": {
      "name": "python"
    },
    "accelerator": "GPU"
  },
  "cells": [
    {
      "cell_type": "code",
      "execution_count": 1,
      "metadata": {
        "id": "VJOBET7aZuAs"
      },
      "outputs": [],
      "source": [
        "import torch\n",
        "import torch.nn as nn\n",
        "import torch.optim as optim\n",
        "import pandas as pd\n",
        "from sklearn.model_selection import train_test_split\n",
        "from sklearn.preprocessing import MinMaxScaler"
      ]
    },
    {
      "cell_type": "code",
      "source": [
        "dataset1 = pd.read_csv('/content/dataset.csv')\n",
        "X = dataset1[['x']].values\n",
        "y = dataset1[['y']].values"
      ],
      "metadata": {
        "id": "PaKxT9lYZ7_r"
      },
      "execution_count": 2,
      "outputs": []
    },
    {
      "cell_type": "code",
      "source": [
        "X_train, X_test, y_train, y_test = train_test_split(X, y, test_size=0.33, random_state=33)"
      ],
      "metadata": {
        "id": "0s9XNKnraBB1"
      },
      "execution_count": 3,
      "outputs": []
    },
    {
      "cell_type": "code",
      "source": [
        "scaler = MinMaxScaler()\n",
        "X_train = scaler.fit_transform(X_train)\n",
        "X_test = scaler.transform(X_test)"
      ],
      "metadata": {
        "id": "YhvC6ogzaEHT"
      },
      "execution_count": 4,
      "outputs": []
    },
    {
      "cell_type": "code",
      "source": [
        "X_train_tensor = torch.tensor(X_train, dtype=torch.float32)\n",
        "y_train_tensor = torch.tensor(y_train, dtype=torch.float32).view(-1, 1)\n",
        "X_test_tensor = torch.tensor(X_test, dtype=torch.float32)\n",
        "y_test_tensor = torch.tensor(y_test, dtype=torch.float32).view(-1, 1)"
      ],
      "metadata": {
        "id": "ht0VjANUaImU"
      },
      "execution_count": 5,
      "outputs": []
    },
    {
      "cell_type": "code",
      "source": [
        "# Name:\n",
        "# Register Number:\n",
        "class NeuralNet (nn.Module):\n",
        "  def __init__(self):\n",
        "    super().__init__()\n",
        "    self.fc1 = nn. Linear (1,8)\n",
        "    self.fc2 = nn. Linear (8, 10)\n",
        "    self.fc3 = nn. Linear (10, 1)\n",
        "    self.relu = nn.ReLU()\n",
        "    self.history = {'loss': []}\n",
        "  def forward(self, x):\n",
        "    x = self.relu(self.fc1(x))\n",
        "    x = self.relu(self.fc2(x))\n",
        "    x = self.fc3(x) # No activation here since it's a regression task\n",
        "    return x\n",
        "\n",
        "\n",
        "\n"
      ],
      "metadata": {
        "id": "sFkMMUXwIsxs"
      },
      "execution_count": 10,
      "outputs": []
    },
    {
      "cell_type": "code",
      "source": [
        "# Initialize the Model, Loss Function, and Optimizer\n",
        "ai_brain = NeuralNet()\n",
        "criterion = nn.MSELoss()\n",
        "optimizer = optim. RMSprop(ai_brain.parameters(), lr=0.001)"
      ],
      "metadata": {
        "id": "LYCcZwd3aVXr"
      },
      "execution_count": 12,
      "outputs": []
    },
    {
      "cell_type": "code",
      "source": [
        "# Name:\n",
        "# Register Number:\n",
        "def train_model(ai_brain, X_train, y_train, criterion, optimizer, epochs=5000):\n",
        "  for epoch in range(epochs):\n",
        "    optimizer.zero_grad()\n",
        "    loss = criterion (ai_brain (X_train), y_train)\n",
        "    loss.backward()\n",
        "    optimizer.step()\n",
        "\n",
        "    ai_brain.history['loss'].append(loss.item())\n",
        "    if epoch % 200 == 0:\n",
        "      print(f'Epoch [{epoch}/{epochs}), Loss: {loss.item():.6f}')"
      ],
      "metadata": {
        "id": "j04FRGu5aabj"
      },
      "execution_count": 28,
      "outputs": []
    },
    {
      "cell_type": "code",
      "source": [
        "train_model(ai_brain, X_train_tensor, y_train_tensor, criterion, optimizer)\n"
      ],
      "metadata": {
        "id": "3nT2R4-NanGb",
        "colab": {
          "base_uri": "https://localhost:8080/"
        },
        "outputId": "41a8aef1-f871-425f-ea90-dc0e8c64dbb7"
      },
      "execution_count": 29,
      "outputs": [
        {
          "output_type": "stream",
          "name": "stdout",
          "text": [
            "Epoch [0/5000), Loss: 0.007687\n",
            "Epoch [200/5000), Loss: 0.007733\n",
            "Epoch [400/5000), Loss: 0.007714\n",
            "Epoch [600/5000), Loss: 0.007711\n",
            "Epoch [800/5000), Loss: 0.007729\n",
            "Epoch [1000/5000), Loss: 0.007686\n",
            "Epoch [1200/5000), Loss: 0.007745\n",
            "Epoch [1400/5000), Loss: 0.007684\n",
            "Epoch [1600/5000), Loss: 0.007727\n",
            "Epoch [1800/5000), Loss: 0.007706\n",
            "Epoch [2000/5000), Loss: 0.007703\n",
            "Epoch [2200/5000), Loss: 0.007722\n",
            "Epoch [2400/5000), Loss: 0.007678\n",
            "Epoch [2600/5000), Loss: 0.007732\n",
            "Epoch [2800/5000), Loss: 0.007689\n",
            "Epoch [3000/5000), Loss: 0.007711\n",
            "Epoch [3200/5000), Loss: 0.007707\n",
            "Epoch [3400/5000), Loss: 0.007684\n",
            "Epoch [3600/5000), Loss: 0.007735\n",
            "Epoch [3800/5000), Loss: 0.007674\n",
            "Epoch [4000/5000), Loss: 0.007714\n",
            "Epoch [4200/5000), Loss: 0.007701\n",
            "Epoch [4400/5000), Loss: 0.007677\n",
            "Epoch [4600/5000), Loss: 0.007723\n",
            "Epoch [4800/5000), Loss: 0.007665\n"
          ]
        }
      ]
    },
    {
      "cell_type": "code",
      "source": [
        "with torch.no_grad():\n",
        "    test_loss = criterion(ai_brain(X_test_tensor), y_test_tensor)\n",
        "    print(f'Test Loss: {test_loss.item():.6f}')\n"
      ],
      "metadata": {
        "id": "Hs52rJD-aq-r",
        "colab": {
          "base_uri": "https://localhost:8080/"
        },
        "outputId": "f84dfbb6-cae9-4415-ef75-1ecdb2e08783"
      },
      "execution_count": 30,
      "outputs": [
        {
          "output_type": "stream",
          "name": "stdout",
          "text": [
            "Test Loss: 0.008233\n"
          ]
        }
      ]
    },
    {
      "cell_type": "code",
      "source": [
        "loss_df = pd.DataFrame(ai_brain.history)"
      ],
      "metadata": {
        "id": "fSU0R1jPYzBY"
      },
      "execution_count": 31,
      "outputs": []
    },
    {
      "cell_type": "code",
      "source": [
        "import matplotlib.pyplot as plt\n",
        "loss_df.plot()\n",
        "plt.xlabel(\"Epochs\")\n",
        "plt.ylabel(\"Loss\")\n",
        "plt.title(\"Loss during Training\")\n",
        "plt.show()"
      ],
      "metadata": {
        "id": "XRU1WLwAZuh4",
        "colab": {
          "base_uri": "https://localhost:8080/",
          "height": 472
        },
        "outputId": "c5ce4789-b327-4dc9-bd75-15ab2afea1aa"
      },
      "execution_count": 32,
      "outputs": [
        {
          "output_type": "display_data",
          "data": {
            "text/plain": [
              "<Figure size 640x480 with 1 Axes>"
            ],
            "image/png": "[encoded data removed]"
          },
          "metadata": {}
        }
      ]
    },
    {
      "cell_type": "code",
      "source": [
        "X_n1_1 = torch.tensor([[5]], dtype=torch.float32)\n",
        "prediction = ai_brain(torch.tensor(scaler.transform(X_n1_1), dtype=torch.float32)).item()\n",
        "print(f'Prediction: {prediction}')"
      ],
      "metadata": {
        "id": "mr_JhBRZauxb",
        "colab": {
          "base_uri": "https://localhost:8080/"
        },
        "outputId": "1572d563-7a31-4013-e603-08324d5d9086"
      },
      "execution_count": 36,
      "outputs": [
        {
          "output_type": "stream",
          "name": "stdout",
          "text": [
            "Prediction: 25.950733184814453\n"
          ]
        }
      ]
    },
    {
      "cell_type": "code",
      "source": [],
      "metadata": {
        "id": "kSnViPe6O3kF"
      },
      "execution_count": null,
      "outputs": []
    }
  ]
}